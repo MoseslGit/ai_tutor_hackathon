{
 "cells": [
  {
   "cell_type": "code",
   "execution_count": 3,
   "metadata": {},
   "outputs": [
    {
     "name": "stdout",
     "output_type": "stream",
     "text": [
      "45.049943876207536 15.440329984780703\n"
     ]
    }
   ],
   "source": [
    "import numpy as np\n",
    "\n",
    "def cosine_distance(a, b):\n",
    "    cosine_similarity = np.dot(a, b) / (np.linalg.norm(a) * np.linalg.norm(b))\n",
    "    return 1 - cosine_similarity\n",
    "\n",
    "a = np.array([1,2])\n",
    "b = np.array([4,5])\n",
    "c = np.array([7,8])\n",
    "\n",
    "z = np.array([1,0.5,np.nan])\n",
    "\n",
    "d_a = cosine_distance(a, b)\n",
    "d_b = cosine_distance(a, c)\n",
    "\n",
    "Q_1 = z[0]* (1/d_a) + z[1]*(1/d_b)\n",
    "print(Q_1)"
   ]
  },
  {
   "cell_type": "code",
   "execution_count": null,
   "metadata": {},
   "outputs": [],
   "source": []
  }
 ],
 "metadata": {
  "kernelspec": {
   "display_name": "AiTutor",
   "language": "python",
   "name": "python3"
  },
  "language_info": {
   "codemirror_mode": {
    "name": "ipython",
    "version": 3
   },
   "file_extension": ".py",
   "mimetype": "text/x-python",
   "name": "python",
   "nbconvert_exporter": "python",
   "pygments_lexer": "ipython3",
   "version": "3.9.18"
  }
 },
 "nbformat": 4,
 "nbformat_minor": 2
}
