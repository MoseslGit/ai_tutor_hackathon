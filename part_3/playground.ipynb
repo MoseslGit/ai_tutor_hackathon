{
 "cells": [
  {
   "cell_type": "code",
   "execution_count": 15,
   "metadata": {},
   "outputs": [
    {
     "name": "stdout",
     "output_type": "stream",
     "text": [
      "inv cosine similarities 45.049943876207536 30.880659969561407 1029.0553124961607\n",
      "scaled inv cosine similarities 0.014195195070101769 0.0 1.0\n",
      "Z_scores 1.0 0.5 nan\n",
      "Q_scores: 0.006998255927016391 0.013996511854032782 0.4930017440729836\n"
     ]
    }
   ],
   "source": [
    "import numpy as np\n",
    "\n",
    "def cosine_distance(a, b):\n",
    "    cosine_similarity = np.dot(a, b) / (np.linalg.norm(a) * np.linalg.norm(b))\n",
    "    return 1 - cosine_similarity\n",
    "\n",
    "a = np.array([1,2])\n",
    "b = np.array([4,5])\n",
    "c = np.array([7,8])\n",
    "\n",
    "z = np.array([1,0.5,np.nan])\n",
    "\n",
    "d_a_b = cosine_distance(a, b)\n",
    "d_a_c = cosine_distance(a, c)\n",
    "d_b_c = cosine_distance(b, c)\n",
    "\n",
    "max_d = max(1/d_a_b, 1/d_a_c, 1/d_b_c)\n",
    "min_d = min(1/d_a_b, 1/d_a_c, 1/d_b_c)\n",
    "\n",
    "normalised_inv_d_a_b = (1/d_a_b - min_d) / (max_d - min_d)\n",
    "normalised_inv_d_a_c = (1/d_a_c - min_d) / (max_d - min_d)\n",
    "normalised_inv_d_b_c = (1/d_b_c - min_d) / (max_d - min_d)\n",
    "\n",
    "normalised_inv_d_summed = sum([normalised_inv_d_a_b,normalised_inv_d_a_c,normalised_inv_d_b_c])\n",
    "Q_1 = z[1]* (normalised_inv_d_a_b/normalised_inv_d_summed)\n",
    "\n",
    "Q_2 = z[0]* (normalised_inv_d_a_b/normalised_inv_d_summed)\n",
    "\n",
    "Q_3 = z[0]* (normalised_inv_d_a_c/normalised_inv_d_summed) + z[1]*(normalised_inv_d_b_c/normalised_inv_d_summed)\n",
    "print('inv cosine similarities',1/d_a_b,1/d_a_c,1/d_b_c)\n",
    "print('scaled inv cosine similarities', normalised_inv_d_a_b, normalised_inv_d_a_c, normalised_inv_d_b_c)\n",
    "print('Z_scores',z[0],z[1],z[2])\n",
    "print('Q_scores:',Q_1, Q_2, Q_3)"
   ]
  },
  {
   "cell_type": "code",
   "execution_count": null,
   "metadata": {},
   "outputs": [],
   "source": [
    "Q_"
   ]
  }
 ],
 "metadata": {
  "kernelspec": {
   "display_name": "AiTutor",
   "language": "python",
   "name": "python3"
  },
  "language_info": {
   "codemirror_mode": {
    "name": "ipython",
    "version": 3
   },
   "file_extension": ".py",
   "mimetype": "text/x-python",
   "name": "python",
   "nbconvert_exporter": "python",
   "pygments_lexer": "ipython3",
   "version": "3.9.18"
  }
 },
 "nbformat": 4,
 "nbformat_minor": 2
}
