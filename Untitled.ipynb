{
 "cells": [
  {
   "cell_type": "code",
   "execution_count": 1,
   "id": "ab31c031-f33d-4451-97fa-505dadd03d8f",
   "metadata": {},
   "outputs": [],
   "source": [
    "import requests"
   ]
  },
  {
   "cell_type": "code",
   "execution_count": 40,
   "id": "550b95dd-a54b-400f-ad9a-d903a2695ee3",
   "metadata": {},
   "outputs": [
    {
     "data": {
      "text/plain": [
       "{'answers': ['4.85', '5.45', '6.18'],\n",
       " 'correctAnswer': 0,\n",
       " 'id': 32,\n",
       " 'lessonFinished': True,\n",
       " 'question': 'Pardew Jewels had 340,000 common shares outstanding and 45,000 shares of preferred stock paying USD10 dividend per share. Each preferred share is convertible into one common share. In 2008, the company reported a net income of USD2.1 million for the year. What is the reported diluted EPS on the company’s financial statements?'}"
      ]
     },
     "execution_count": 40,
     "metadata": {},
     "output_type": "execute_result"
    }
   ],
   "source": [
    "requests.get('http://127.0.0.1:8080/question?lessonId=0&questionNumber=9').json()"
   ]
  },
  {
   "cell_type": "code",
   "execution_count": null,
   "id": "1729443d-1630-4f46-bd53-1c5bf78c5722",
   "metadata": {},
   "outputs": [],
   "source": []
  }
 ],
 "metadata": {
  "kernelspec": {
   "display_name": "Python 3 (ipykernel)",
   "language": "python",
   "name": "python3"
  },
  "language_info": {
   "codemirror_mode": {
    "name": "ipython",
    "version": 3
   },
   "file_extension": ".py",
   "mimetype": "text/x-python",
   "name": "python",
   "nbconvert_exporter": "python",
   "pygments_lexer": "ipython3",
   "version": "3.11.6"
  }
 },
 "nbformat": 4,
 "nbformat_minor": 5
}
