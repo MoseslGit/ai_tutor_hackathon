{
 "cells": [
  {
   "cell_type": "code",
   "execution_count": 1,
   "metadata": {
    "collapsed": true
   },
   "outputs": [],
   "source": [
    "import openai.types.embedding\n",
    "import pandas as pd\n",
    "import re\n",
    "import numpy as np\n",
    "import json\n",
    "from uuid import uuid4\n",
    "import pickle\n",
    "import requests\n",
    "from openai import OpenAI\n",
    "# from env import OPENAI_API_KEY\n",
    "\n",
    "def save_pickle(filename, data):\n",
    "    # Open a file for writing. The 'wb' argument opens the file in binary write mode.\n",
    "    with open(filename, 'wb') as file:\n",
    "        pickle.dump(data, file)\n",
    "\n",
    "def load_pickle(filename):\n",
    "    # Open the file in binary read mode\n",
    "    with open(filename, 'rb') as file:\n",
    "        loaded_data = pickle.load(file)\n",
    "        return loaded_data"
   ]
  },
  {
   "cell_type": "code",
   "execution_count": 33,
   "outputs": [],
   "source": [
    "dirty_data = pd.read_csv('unprocessed_data.csv')\n",
    "# data"
   ],
   "metadata": {
    "collapsed": false,
    "pycharm": {
     "name": "#%%\n"
    }
   }
  },
  {
   "cell_type": "code",
   "execution_count": 84,
   "outputs": [
    {
     "data": {
      "text/plain": "                                      id  \\\n0   b8645f24-32b3-4732-b0ee-99db249bcd79   \n1   d9565025-0798-4477-aaad-b9effb0fc974   \n2   dcafd902-0a03-4617-bfad-42f6f4fa0513   \n3   da4cd658-bca1-4935-b9c3-98d65030e818   \n4   b854842f-4701-4c1d-9613-a6e919617f57   \n5   706ec10f-fd3a-451a-82b6-baaf7bf85f3d   \n6   d1370f15-cc00-4184-a548-eff352633bc7   \n7   ecba238f-40ac-44fe-8083-cd2b3a2dadcd   \n8   3ba54509-0511-4d10-9364-cb04fb3a04e6   \n9   ca289b3f-1c34-4274-baaa-fe708fb9576c   \n10  8a10b600-8f6e-4fdc-a82f-e9dfdc80a33a   \n11  cbdbc85b-a6ae-4433-9b2f-0d6570c0bb79   \n12  35be5f28-6861-4ddd-991f-a081101a176c   \n13  3aa6f3b9-3f00-436c-8250-286d35498269   \n14  55e4df1b-8acb-45d5-bd74-3a3bd39abc53   \n15  74fe0a74-0b2a-4657-9a52-ce1ca52bb572   \n16  e8e69d5b-5c72-4c70-b7b5-a2404ea767c2   \n17  1b2b6767-3445-44ba-bfb2-edc044248fbf   \n18  3a220e86-a780-480a-9fe0-87c1ab393251   \n19  f0f3afbe-7096-46a0-a077-cf6ee619ff81   \n20  7f6baf1b-0726-49b6-acfd-b089097be45a   \n21  8cced206-3986-4120-9d49-47d80ba81f7f   \n22  3bc2bd16-74ec-4bf2-bb09-63a3e1451f70   \n23  f3f089ad-036f-4120-9b43-113e8d8248e5   \n24  87140956-9b02-4574-83d1-49acc8daa44d   \n25  7ea2e8e3-d3c1-49fe-ad08-5e6846aebfa4   \n26  5ae2ed86-b057-47d0-9275-fe515a1384ba   \n27  2fac5dcb-7ce9-4a18-9640-7b0564aaeed3   \n28  4b1b87ec-814e-4bbc-b9ec-55ffa4fa5b66   \n29  e74b9a63-979d-4eeb-a11c-f6283fad871d   \n30  c52c7110-0b36-4736-9859-e0a2cbc28ec5   \n31  8ebcc704-11db-47bb-92b7-9b906b222159   \n32  54b3dee0-383b-4df6-a33f-a51450c1b3f8   \n33  e9ee13d6-3b46-4e0c-917b-306b817e0fd7   \n\n                                             question  \\\n0   Sumita Khatri wrote a research report and foll...   \n1   Aryana Reid, CFA, is a private wealth manager....   \n2   Kent Miller is an investment adviser at UBN In...   \n3   Justin Zoghlin, CFA, was hired as a wealth man...   \n4   Rani Kaporwala, CFA, an analyst at Smart Secur...   \n5   Cara Knightly is a much respected portfolio ma...   \n6   Andy McCarthy, CFA, resigns from his position ...   \n7   During lunch with his friend, who is an analys...   \n8   Which of the following is least likely correct...   \n9   Stewart is an analyst at a small investment fi...   \n10  Which of the following actions is least likely...   \n11  Which of the following is not correct about ve...   \n12  Which of the following is not a requirement of...   \n13  Cassandra Turnbull is planning a college fund ...   \n14  An equity analyst has categorized some stocks ...   \n15  Steve Rowling is analyzing the historical perf...   \n16  Bernhard Schwaiger, an equity analyst, wants t...   \n17  Which of the following types of probabilities ...   \n18  It is least likely for a binomial random varia...   \n19  Choosing not to reject a null hypothesis that ...   \n20  Which of the following is least likely true fo...   \n21  Assume that the nominal spot exchange rate (US...   \n22  A firm will most likely shut down its producti...   \n23  Which of the following statements about Giffen...   \n24    Aggregate demand (AD) curve will shift left if:   \n25  Assume that the nominal spot exchange rate (US...   \n26  According to the Fischer effect, a decrease in...   \n27  A large country wants to increase its national...   \n28  One of the reasons aggregate demand curve is d...   \n29  The firms involved in a cartel have collusive ...   \n30  Which of the following companies will have the...   \n31  A separate purchases account is most likely re...   \n32  Pardew Jewels had 340,000 common shares outsta...   \n33  The most appropriate way to account for the as...   \n\n                                              options  \\\n0   [No., Yes, relating to performance presentatio...   \n1   [Publish the post and send it as a mail to the...   \n2   [determine Hartford’s needs, objectives, and t...   \n3   [Serving the religious community., Managing no...   \n4   [No., Yes, relating to communications with cli...   \n5   [Yes, related to priority of transactions., Ye...   \n6   [No., Yes, relating to reference to the CFA In...   \n7   [Yes, with respect to diligence and reasonable...   \n8   [Financial analysts may use conclusions as rec...   \n9   [Yes, relating to priority of transactions., N...   \n10  [Distributing recommendation to high net worth...   \n11  [Verification must be performed by an independ...   \n12  [one or more portfolios., portfolios selected ...   \n13               [USD10,069., USD18,116., USD24,000.]   \n14                    [Interval., Nominal., Ordinal.]   \n15                            [7.5 %, 5.76 %, 11.3 %]   \n16  [time-series data., cross-sectional data., pan...   \n17  [An empirical probability., A priori probabili...   \n18  [the standard deviation of the variable is np(...   \n19  [statistical decision., economic decision., in...   \n20  [It has an excess kurtosis of 3.0., The mean i...   \n21      [1.80 percent., 1.82 percent., 1.14 percent.]   \n22  [the total revenue is less than the total cost...   \n23  [Demand curve is positively sloped., Income ef...   \n24  [interest rates are lower., taxes are higher.,...   \n25                        [12.72 %., 1.94 %., -2.52%]   \n26  [both nominal and real interest rates., the no...   \n27  [It must have a comparative advantage in the p...   \n28  [depreciates, making domestic goods cheaper in...   \n29  [Homogenous products., Few firms having simila...   \n30  [A company that combines the results of the tw...   \n31  [the periodic inventory system., the perpetual...   \n32                                 [4.85, 5.45, 6.18]   \n33  [held for sale with no depreciation taken., he...   \n\n                             _category  \n0   Ethical and Professional Standards  \n1   Ethical and Professional Standards  \n2   Ethical and Professional Standards  \n3   Ethical and Professional Standards  \n4   Ethical and Professional Standards  \n5   Ethical and Professional Standards  \n6   Ethical and Professional Standards  \n7   Ethical and Professional Standards  \n8   Ethical and Professional Standards  \n9   Ethical and Professional Standards  \n10  Ethical and Professional Standards  \n11  Ethical and Professional Standards  \n12  Ethical and Professional Standards  \n13                Quantitative Methods  \n14                Quantitative Methods  \n15                Quantitative Methods  \n16                Quantitative Methods  \n17                Quantitative Methods  \n18                Quantitative Methods  \n19                Quantitative Methods  \n20                Quantitative Methods  \n21                           Economics  \n22                           Economics  \n23                           Economics  \n24                           Economics  \n25                           Economics  \n26                           Economics  \n27                           Economics  \n28                           Economics  \n29                           Economics  \n30    Financial Reporting and Analysis  \n31    Financial Reporting and Analysis  \n32    Financial Reporting and Analysis  \n33    Financial Reporting and Analysis  ",
      "text/html": "<div>\n<style scoped>\n    .dataframe tbody tr th:only-of-type {\n        vertical-align: middle;\n    }\n\n    .dataframe tbody tr th {\n        vertical-align: top;\n    }\n\n    .dataframe thead th {\n        text-align: right;\n    }\n</style>\n<table border=\"1\" class=\"dataframe\">\n  <thead>\n    <tr style=\"text-align: right;\">\n      <th></th>\n      <th>id</th>\n      <th>question</th>\n      <th>options</th>\n      <th>_category</th>\n    </tr>\n  </thead>\n  <tbody>\n    <tr>\n      <th>0</th>\n      <td>b8645f24-32b3-4732-b0ee-99db249bcd79</td>\n      <td>Sumita Khatri wrote a research report and foll...</td>\n      <td>[No., Yes, relating to performance presentatio...</td>\n      <td>Ethical and Professional Standards</td>\n    </tr>\n    <tr>\n      <th>1</th>\n      <td>d9565025-0798-4477-aaad-b9effb0fc974</td>\n      <td>Aryana Reid, CFA, is a private wealth manager....</td>\n      <td>[Publish the post and send it as a mail to the...</td>\n      <td>Ethical and Professional Standards</td>\n    </tr>\n    <tr>\n      <th>2</th>\n      <td>dcafd902-0a03-4617-bfad-42f6f4fa0513</td>\n      <td>Kent Miller is an investment adviser at UBN In...</td>\n      <td>[determine Hartford’s needs, objectives, and t...</td>\n      <td>Ethical and Professional Standards</td>\n    </tr>\n    <tr>\n      <th>3</th>\n      <td>da4cd658-bca1-4935-b9c3-98d65030e818</td>\n      <td>Justin Zoghlin, CFA, was hired as a wealth man...</td>\n      <td>[Serving the religious community., Managing no...</td>\n      <td>Ethical and Professional Standards</td>\n    </tr>\n    <tr>\n      <th>4</th>\n      <td>b854842f-4701-4c1d-9613-a6e919617f57</td>\n      <td>Rani Kaporwala, CFA, an analyst at Smart Secur...</td>\n      <td>[No., Yes, relating to communications with cli...</td>\n      <td>Ethical and Professional Standards</td>\n    </tr>\n    <tr>\n      <th>5</th>\n      <td>706ec10f-fd3a-451a-82b6-baaf7bf85f3d</td>\n      <td>Cara Knightly is a much respected portfolio ma...</td>\n      <td>[Yes, related to priority of transactions., Ye...</td>\n      <td>Ethical and Professional Standards</td>\n    </tr>\n    <tr>\n      <th>6</th>\n      <td>d1370f15-cc00-4184-a548-eff352633bc7</td>\n      <td>Andy McCarthy, CFA, resigns from his position ...</td>\n      <td>[No., Yes, relating to reference to the CFA In...</td>\n      <td>Ethical and Professional Standards</td>\n    </tr>\n    <tr>\n      <th>7</th>\n      <td>ecba238f-40ac-44fe-8083-cd2b3a2dadcd</td>\n      <td>During lunch with his friend, who is an analys...</td>\n      <td>[Yes, with respect to diligence and reasonable...</td>\n      <td>Ethical and Professional Standards</td>\n    </tr>\n    <tr>\n      <th>8</th>\n      <td>3ba54509-0511-4d10-9364-cb04fb3a04e6</td>\n      <td>Which of the following is least likely correct...</td>\n      <td>[Financial analysts may use conclusions as rec...</td>\n      <td>Ethical and Professional Standards</td>\n    </tr>\n    <tr>\n      <th>9</th>\n      <td>ca289b3f-1c34-4274-baaa-fe708fb9576c</td>\n      <td>Stewart is an analyst at a small investment fi...</td>\n      <td>[Yes, relating to priority of transactions., N...</td>\n      <td>Ethical and Professional Standards</td>\n    </tr>\n    <tr>\n      <th>10</th>\n      <td>8a10b600-8f6e-4fdc-a82f-e9dfdc80a33a</td>\n      <td>Which of the following actions is least likely...</td>\n      <td>[Distributing recommendation to high net worth...</td>\n      <td>Ethical and Professional Standards</td>\n    </tr>\n    <tr>\n      <th>11</th>\n      <td>cbdbc85b-a6ae-4433-9b2f-0d6570c0bb79</td>\n      <td>Which of the following is not correct about ve...</td>\n      <td>[Verification must be performed by an independ...</td>\n      <td>Ethical and Professional Standards</td>\n    </tr>\n    <tr>\n      <th>12</th>\n      <td>35be5f28-6861-4ddd-991f-a081101a176c</td>\n      <td>Which of the following is not a requirement of...</td>\n      <td>[one or more portfolios., portfolios selected ...</td>\n      <td>Ethical and Professional Standards</td>\n    </tr>\n    <tr>\n      <th>13</th>\n      <td>3aa6f3b9-3f00-436c-8250-286d35498269</td>\n      <td>Cassandra Turnbull is planning a college fund ...</td>\n      <td>[USD10,069., USD18,116., USD24,000.]</td>\n      <td>Quantitative Methods</td>\n    </tr>\n    <tr>\n      <th>14</th>\n      <td>55e4df1b-8acb-45d5-bd74-3a3bd39abc53</td>\n      <td>An equity analyst has categorized some stocks ...</td>\n      <td>[Interval., Nominal., Ordinal.]</td>\n      <td>Quantitative Methods</td>\n    </tr>\n    <tr>\n      <th>15</th>\n      <td>74fe0a74-0b2a-4657-9a52-ce1ca52bb572</td>\n      <td>Steve Rowling is analyzing the historical perf...</td>\n      <td>[7.5 %, 5.76 %, 11.3 %]</td>\n      <td>Quantitative Methods</td>\n    </tr>\n    <tr>\n      <th>16</th>\n      <td>e8e69d5b-5c72-4c70-b7b5-a2404ea767c2</td>\n      <td>Bernhard Schwaiger, an equity analyst, wants t...</td>\n      <td>[time-series data., cross-sectional data., pan...</td>\n      <td>Quantitative Methods</td>\n    </tr>\n    <tr>\n      <th>17</th>\n      <td>1b2b6767-3445-44ba-bfb2-edc044248fbf</td>\n      <td>Which of the following types of probabilities ...</td>\n      <td>[An empirical probability., A priori probabili...</td>\n      <td>Quantitative Methods</td>\n    </tr>\n    <tr>\n      <th>18</th>\n      <td>3a220e86-a780-480a-9fe0-87c1ab393251</td>\n      <td>It is least likely for a binomial random varia...</td>\n      <td>[the standard deviation of the variable is np(...</td>\n      <td>Quantitative Methods</td>\n    </tr>\n    <tr>\n      <th>19</th>\n      <td>f0f3afbe-7096-46a0-a077-cf6ee619ff81</td>\n      <td>Choosing not to reject a null hypothesis that ...</td>\n      <td>[statistical decision., economic decision., in...</td>\n      <td>Quantitative Methods</td>\n    </tr>\n    <tr>\n      <th>20</th>\n      <td>7f6baf1b-0726-49b6-acfd-b089097be45a</td>\n      <td>Which of the following is least likely true fo...</td>\n      <td>[It has an excess kurtosis of 3.0., The mean i...</td>\n      <td>Quantitative Methods</td>\n    </tr>\n    <tr>\n      <th>21</th>\n      <td>8cced206-3986-4120-9d49-47d80ba81f7f</td>\n      <td>Assume that the nominal spot exchange rate (US...</td>\n      <td>[1.80 percent., 1.82 percent., 1.14 percent.]</td>\n      <td>Economics</td>\n    </tr>\n    <tr>\n      <th>22</th>\n      <td>3bc2bd16-74ec-4bf2-bb09-63a3e1451f70</td>\n      <td>A firm will most likely shut down its producti...</td>\n      <td>[the total revenue is less than the total cost...</td>\n      <td>Economics</td>\n    </tr>\n    <tr>\n      <th>23</th>\n      <td>f3f089ad-036f-4120-9b43-113e8d8248e5</td>\n      <td>Which of the following statements about Giffen...</td>\n      <td>[Demand curve is positively sloped., Income ef...</td>\n      <td>Economics</td>\n    </tr>\n    <tr>\n      <th>24</th>\n      <td>87140956-9b02-4574-83d1-49acc8daa44d</td>\n      <td>Aggregate demand (AD) curve will shift left if:</td>\n      <td>[interest rates are lower., taxes are higher.,...</td>\n      <td>Economics</td>\n    </tr>\n    <tr>\n      <th>25</th>\n      <td>7ea2e8e3-d3c1-49fe-ad08-5e6846aebfa4</td>\n      <td>Assume that the nominal spot exchange rate (US...</td>\n      <td>[12.72 %., 1.94 %., -2.52%]</td>\n      <td>Economics</td>\n    </tr>\n    <tr>\n      <th>26</th>\n      <td>5ae2ed86-b057-47d0-9275-fe515a1384ba</td>\n      <td>According to the Fischer effect, a decrease in...</td>\n      <td>[both nominal and real interest rates., the no...</td>\n      <td>Economics</td>\n    </tr>\n    <tr>\n      <th>27</th>\n      <td>2fac5dcb-7ce9-4a18-9640-7b0564aaeed3</td>\n      <td>A large country wants to increase its national...</td>\n      <td>[It must have a comparative advantage in the p...</td>\n      <td>Economics</td>\n    </tr>\n    <tr>\n      <th>28</th>\n      <td>4b1b87ec-814e-4bbc-b9ec-55ffa4fa5b66</td>\n      <td>One of the reasons aggregate demand curve is d...</td>\n      <td>[depreciates, making domestic goods cheaper in...</td>\n      <td>Economics</td>\n    </tr>\n    <tr>\n      <th>29</th>\n      <td>e74b9a63-979d-4eeb-a11c-f6283fad871d</td>\n      <td>The firms involved in a cartel have collusive ...</td>\n      <td>[Homogenous products., Few firms having simila...</td>\n      <td>Economics</td>\n    </tr>\n    <tr>\n      <th>30</th>\n      <td>c52c7110-0b36-4736-9859-e0a2cbc28ec5</td>\n      <td>Which of the following companies will have the...</td>\n      <td>[A company that combines the results of the tw...</td>\n      <td>Financial Reporting and Analysis</td>\n    </tr>\n    <tr>\n      <th>31</th>\n      <td>8ebcc704-11db-47bb-92b7-9b906b222159</td>\n      <td>A separate purchases account is most likely re...</td>\n      <td>[the periodic inventory system., the perpetual...</td>\n      <td>Financial Reporting and Analysis</td>\n    </tr>\n    <tr>\n      <th>32</th>\n      <td>54b3dee0-383b-4df6-a33f-a51450c1b3f8</td>\n      <td>Pardew Jewels had 340,000 common shares outsta...</td>\n      <td>[4.85, 5.45, 6.18]</td>\n      <td>Financial Reporting and Analysis</td>\n    </tr>\n    <tr>\n      <th>33</th>\n      <td>e9ee13d6-3b46-4e0c-917b-306b817e0fd7</td>\n      <td>The most appropriate way to account for the as...</td>\n      <td>[held for sale with no depreciation taken., he...</td>\n      <td>Financial Reporting and Analysis</td>\n    </tr>\n  </tbody>\n</table>\n</div>"
     },
     "execution_count": 84,
     "metadata": {},
     "output_type": "execute_result"
    }
   ],
   "source": [
    "clean_data = pd.DataFrame()\n",
    "\n",
    "def reformat_options(option):\n",
    "    split_options = option.split('\\n')\n",
    "    indices_removed = [split_options[i][3:] for i in range(len(split_options))]\n",
    "    return indices_removed\n",
    "\n",
    "clean_data['id'] = dirty_data['questions'].map(lambda q: uuid4())\n",
    "clean_data['question'] = dirty_data['questions'].map(lambda text: re.sub(' +', ' ', text.replace('\\n', ' ')))\n",
    "clean_data['options'] = dirty_data['options'].apply(reformat_options)\n",
    "clean_data['_category'] = dirty_data['_notes'].map(lambda text: text.strip())\n",
    "\n",
    "save_pickle('data.pkl', clean_data)\n",
    "clean_data"
   ],
   "metadata": {
    "collapsed": false,
    "pycharm": {
     "name": "#%%\n"
    }
   }
  },
  {
   "cell_type": "code",
   "execution_count": 106,
   "outputs": [],
   "source": [
    "data = load_pickle('data.pkl')\n",
    "client = OpenAI(api_key=OPENAI_API_KEY)\n",
    "\n",
    "def get_embedding_from_openai(text, model=\"text-embedding-ada-002\"):\n",
    "   text = text.replace(\"\\n\", \" \")\n",
    "   return client.embeddings.create(input = [text], model=model).data[0].embedding\n",
    "\n",
    "def embed_question(row):\n",
    "    combined_string = row['question'] + ' ' + json.dumps(row['options'])\n",
    "    return get_embedding_from_openai(combined_string)\n",
    "\n",
    "data['embedding'] = data.apply(embed_question, axis=1)\n",
    "# res = data[0: 1].apply(embed_question, axis=1)"
   ],
   "metadata": {
    "collapsed": false,
    "pycharm": {
     "name": "#%%\n"
    }
   }
  },
  {
   "cell_type": "code",
   "execution_count": 111,
   "outputs": [
    {
     "data": {
      "text/plain": "                                      id  \\\n0   b8645f24-32b3-4732-b0ee-99db249bcd79   \n1   d9565025-0798-4477-aaad-b9effb0fc974   \n2   dcafd902-0a03-4617-bfad-42f6f4fa0513   \n3   da4cd658-bca1-4935-b9c3-98d65030e818   \n4   b854842f-4701-4c1d-9613-a6e919617f57   \n5   706ec10f-fd3a-451a-82b6-baaf7bf85f3d   \n6   d1370f15-cc00-4184-a548-eff352633bc7   \n7   ecba238f-40ac-44fe-8083-cd2b3a2dadcd   \n8   3ba54509-0511-4d10-9364-cb04fb3a04e6   \n9   ca289b3f-1c34-4274-baaa-fe708fb9576c   \n10  8a10b600-8f6e-4fdc-a82f-e9dfdc80a33a   \n11  cbdbc85b-a6ae-4433-9b2f-0d6570c0bb79   \n12  35be5f28-6861-4ddd-991f-a081101a176c   \n13  3aa6f3b9-3f00-436c-8250-286d35498269   \n14  55e4df1b-8acb-45d5-bd74-3a3bd39abc53   \n15  74fe0a74-0b2a-4657-9a52-ce1ca52bb572   \n16  e8e69d5b-5c72-4c70-b7b5-a2404ea767c2   \n17  1b2b6767-3445-44ba-bfb2-edc044248fbf   \n18  3a220e86-a780-480a-9fe0-87c1ab393251   \n19  f0f3afbe-7096-46a0-a077-cf6ee619ff81   \n20  7f6baf1b-0726-49b6-acfd-b089097be45a   \n21  8cced206-3986-4120-9d49-47d80ba81f7f   \n22  3bc2bd16-74ec-4bf2-bb09-63a3e1451f70   \n23  f3f089ad-036f-4120-9b43-113e8d8248e5   \n24  87140956-9b02-4574-83d1-49acc8daa44d   \n25  7ea2e8e3-d3c1-49fe-ad08-5e6846aebfa4   \n26  5ae2ed86-b057-47d0-9275-fe515a1384ba   \n27  2fac5dcb-7ce9-4a18-9640-7b0564aaeed3   \n28  4b1b87ec-814e-4bbc-b9ec-55ffa4fa5b66   \n29  e74b9a63-979d-4eeb-a11c-f6283fad871d   \n30  c52c7110-0b36-4736-9859-e0a2cbc28ec5   \n31  8ebcc704-11db-47bb-92b7-9b906b222159   \n32  54b3dee0-383b-4df6-a33f-a51450c1b3f8   \n33  e9ee13d6-3b46-4e0c-917b-306b817e0fd7   \n\n                                             question  \\\n0   Sumita Khatri wrote a research report and foll...   \n1   Aryana Reid, CFA, is a private wealth manager....   \n2   Kent Miller is an investment adviser at UBN In...   \n3   Justin Zoghlin, CFA, was hired as a wealth man...   \n4   Rani Kaporwala, CFA, an analyst at Smart Secur...   \n5   Cara Knightly is a much respected portfolio ma...   \n6   Andy McCarthy, CFA, resigns from his position ...   \n7   During lunch with his friend, who is an analys...   \n8   Which of the following is least likely correct...   \n9   Stewart is an analyst at a small investment fi...   \n10  Which of the following actions is least likely...   \n11  Which of the following is not correct about ve...   \n12  Which of the following is not a requirement of...   \n13  Cassandra Turnbull is planning a college fund ...   \n14  An equity analyst has categorized some stocks ...   \n15  Steve Rowling is analyzing the historical perf...   \n16  Bernhard Schwaiger, an equity analyst, wants t...   \n17  Which of the following types of probabilities ...   \n18  It is least likely for a binomial random varia...   \n19  Choosing not to reject a null hypothesis that ...   \n20  Which of the following is least likely true fo...   \n21  Assume that the nominal spot exchange rate (US...   \n22  A firm will most likely shut down its producti...   \n23  Which of the following statements about Giffen...   \n24    Aggregate demand (AD) curve will shift left if:   \n25  Assume that the nominal spot exchange rate (US...   \n26  According to the Fischer effect, a decrease in...   \n27  A large country wants to increase its national...   \n28  One of the reasons aggregate demand curve is d...   \n29  The firms involved in a cartel have collusive ...   \n30  Which of the following companies will have the...   \n31  A separate purchases account is most likely re...   \n32  Pardew Jewels had 340,000 common shares outsta...   \n33  The most appropriate way to account for the as...   \n\n                                              options  \\\n0   [No., Yes, relating to performance presentatio...   \n1   [Publish the post and send it as a mail to the...   \n2   [determine Hartford’s needs, objectives, and t...   \n3   [Serving the religious community., Managing no...   \n4   [No., Yes, relating to communications with cli...   \n5   [Yes, related to priority of transactions., Ye...   \n6   [No., Yes, relating to reference to the CFA In...   \n7   [Yes, with respect to diligence and reasonable...   \n8   [Financial analysts may use conclusions as rec...   \n9   [Yes, relating to priority of transactions., N...   \n10  [Distributing recommendation to high net worth...   \n11  [Verification must be performed by an independ...   \n12  [one or more portfolios., portfolios selected ...   \n13               [USD10,069., USD18,116., USD24,000.]   \n14                    [Interval., Nominal., Ordinal.]   \n15                            [7.5 %, 5.76 %, 11.3 %]   \n16  [time-series data., cross-sectional data., pan...   \n17  [An empirical probability., A priori probabili...   \n18  [the standard deviation of the variable is np(...   \n19  [statistical decision., economic decision., in...   \n20  [It has an excess kurtosis of 3.0., The mean i...   \n21      [1.80 percent., 1.82 percent., 1.14 percent.]   \n22  [the total revenue is less than the total cost...   \n23  [Demand curve is positively sloped., Income ef...   \n24  [interest rates are lower., taxes are higher.,...   \n25                        [12.72 %., 1.94 %., -2.52%]   \n26  [both nominal and real interest rates., the no...   \n27  [It must have a comparative advantage in the p...   \n28  [depreciates, making domestic goods cheaper in...   \n29  [Homogenous products., Few firms having simila...   \n30  [A company that combines the results of the tw...   \n31  [the periodic inventory system., the perpetual...   \n32                                 [4.85, 5.45, 6.18]   \n33  [held for sale with no depreciation taken., he...   \n\n                             _category  \\\n0   Ethical and Professional Standards   \n1   Ethical and Professional Standards   \n2   Ethical and Professional Standards   \n3   Ethical and Professional Standards   \n4   Ethical and Professional Standards   \n5   Ethical and Professional Standards   \n6   Ethical and Professional Standards   \n7   Ethical and Professional Standards   \n8   Ethical and Professional Standards   \n9   Ethical and Professional Standards   \n10  Ethical and Professional Standards   \n11  Ethical and Professional Standards   \n12  Ethical and Professional Standards   \n13                Quantitative Methods   \n14                Quantitative Methods   \n15                Quantitative Methods   \n16                Quantitative Methods   \n17                Quantitative Methods   \n18                Quantitative Methods   \n19                Quantitative Methods   \n20                Quantitative Methods   \n21                           Economics   \n22                           Economics   \n23                           Economics   \n24                           Economics   \n25                           Economics   \n26                           Economics   \n27                           Economics   \n28                           Economics   \n29                           Economics   \n30    Financial Reporting and Analysis   \n31    Financial Reporting and Analysis   \n32    Financial Reporting and Analysis   \n33    Financial Reporting and Analysis   \n\n                                            embedding  \n0   [0.007968312129378319, -0.0021401941776275635,...  \n1   [-0.02464733086526394, -0.014164824038743973, ...  \n2   [-0.0013949209824204445, -0.01329685840755701,...  \n3   [-0.01206973847001791, -0.030683474615216255, ...  \n4   [0.016661042347550392, -0.013284368440508842, ...  \n5   [0.0029430605936795473, -0.018401801586151123,...  \n6   [-0.0012830019695684314, -0.023840297013521194...  \n7   [-0.0013840276515111327, -0.022090759128332138...  \n8   [-0.006813789717853069, 0.005216542165726423, ...  \n9   [0.002191121457144618, -0.010495488531887531, ...  \n10  [-0.02117363177239895, -0.03191583976149559, 0...  \n11  [-0.01348877977579832, 0.0031064869835972786, ...  \n12  [-0.022901024669408798, 0.001951791811734438, ...  \n13  [0.01821301504969597, -0.011666676960885525, 0...  \n14  [-0.0022847268264740705, -0.024823516607284546...  \n15  [-0.008523395285010338, -0.012276384979486465,...  \n16  [-0.016868723556399345, -0.015274301171302795,...  \n17  [0.0009533858392387629, -0.030482403934001923,...  \n18  [-0.00393192982301116, 0.002891124924644828, 0...  \n19  [-0.015790637582540512, -0.025441201403737068,...  \n20  [0.012575844302773476, 0.003404228249564767, 0...  \n21  [-0.010231759399175644, -0.01147546898573637, ...  \n22  [-0.023046275600790977, -0.029011795297265053,...  \n23  [-0.017165206372737885, -0.014607861638069153,...  \n24  [-0.008108867332339287, -0.024036770686507225,...  \n25  [-0.001321720308624208, -0.018578683957457542,...  \n26  [-0.035725634545087814, -0.007997321896255016,...  \n27  [-0.002830125391483307, -0.02429286576807499, ...  \n28  [-0.018429817631840706, -0.017706066370010376,...  \n29  [-0.004277796018868685, -0.0013091106666252017...  \n30  [-0.002665648702532053, 0.002643505809828639, ...  \n31  [-0.013547739014029503, -0.007608284242451191,...  \n32  [-0.0015917522832751274, -0.011010169982910156...  \n33  [-0.03479471802711487, -0.011672587133944035, ...  ",
      "text/html": "<div>\n<style scoped>\n    .dataframe tbody tr th:only-of-type {\n        vertical-align: middle;\n    }\n\n    .dataframe tbody tr th {\n        vertical-align: top;\n    }\n\n    .dataframe thead th {\n        text-align: right;\n    }\n</style>\n<table border=\"1\" class=\"dataframe\">\n  <thead>\n    <tr style=\"text-align: right;\">\n      <th></th>\n      <th>id</th>\n      <th>question</th>\n      <th>options</th>\n      <th>_category</th>\n      <th>embedding</th>\n    </tr>\n  </thead>\n  <tbody>\n    <tr>\n      <th>0</th>\n      <td>b8645f24-32b3-4732-b0ee-99db249bcd79</td>\n      <td>Sumita Khatri wrote a research report and foll...</td>\n      <td>[No., Yes, relating to performance presentatio...</td>\n      <td>Ethical and Professional Standards</td>\n      <td>[0.007968312129378319, -0.0021401941776275635,...</td>\n    </tr>\n    <tr>\n      <th>1</th>\n      <td>d9565025-0798-4477-aaad-b9effb0fc974</td>\n      <td>Aryana Reid, CFA, is a private wealth manager....</td>\n      <td>[Publish the post and send it as a mail to the...</td>\n      <td>Ethical and Professional Standards</td>\n      <td>[-0.02464733086526394, -0.014164824038743973, ...</td>\n    </tr>\n    <tr>\n      <th>2</th>\n      <td>dcafd902-0a03-4617-bfad-42f6f4fa0513</td>\n      <td>Kent Miller is an investment adviser at UBN In...</td>\n      <td>[determine Hartford’s needs, objectives, and t...</td>\n      <td>Ethical and Professional Standards</td>\n      <td>[-0.0013949209824204445, -0.01329685840755701,...</td>\n    </tr>\n    <tr>\n      <th>3</th>\n      <td>da4cd658-bca1-4935-b9c3-98d65030e818</td>\n      <td>Justin Zoghlin, CFA, was hired as a wealth man...</td>\n      <td>[Serving the religious community., Managing no...</td>\n      <td>Ethical and Professional Standards</td>\n      <td>[-0.01206973847001791, -0.030683474615216255, ...</td>\n    </tr>\n    <tr>\n      <th>4</th>\n      <td>b854842f-4701-4c1d-9613-a6e919617f57</td>\n      <td>Rani Kaporwala, CFA, an analyst at Smart Secur...</td>\n      <td>[No., Yes, relating to communications with cli...</td>\n      <td>Ethical and Professional Standards</td>\n      <td>[0.016661042347550392, -0.013284368440508842, ...</td>\n    </tr>\n    <tr>\n      <th>5</th>\n      <td>706ec10f-fd3a-451a-82b6-baaf7bf85f3d</td>\n      <td>Cara Knightly is a much respected portfolio ma...</td>\n      <td>[Yes, related to priority of transactions., Ye...</td>\n      <td>Ethical and Professional Standards</td>\n      <td>[0.0029430605936795473, -0.018401801586151123,...</td>\n    </tr>\n    <tr>\n      <th>6</th>\n      <td>d1370f15-cc00-4184-a548-eff352633bc7</td>\n      <td>Andy McCarthy, CFA, resigns from his position ...</td>\n      <td>[No., Yes, relating to reference to the CFA In...</td>\n      <td>Ethical and Professional Standards</td>\n      <td>[-0.0012830019695684314, -0.023840297013521194...</td>\n    </tr>\n    <tr>\n      <th>7</th>\n      <td>ecba238f-40ac-44fe-8083-cd2b3a2dadcd</td>\n      <td>During lunch with his friend, who is an analys...</td>\n      <td>[Yes, with respect to diligence and reasonable...</td>\n      <td>Ethical and Professional Standards</td>\n      <td>[-0.0013840276515111327, -0.022090759128332138...</td>\n    </tr>\n    <tr>\n      <th>8</th>\n      <td>3ba54509-0511-4d10-9364-cb04fb3a04e6</td>\n      <td>Which of the following is least likely correct...</td>\n      <td>[Financial analysts may use conclusions as rec...</td>\n      <td>Ethical and Professional Standards</td>\n      <td>[-0.006813789717853069, 0.005216542165726423, ...</td>\n    </tr>\n    <tr>\n      <th>9</th>\n      <td>ca289b3f-1c34-4274-baaa-fe708fb9576c</td>\n      <td>Stewart is an analyst at a small investment fi...</td>\n      <td>[Yes, relating to priority of transactions., N...</td>\n      <td>Ethical and Professional Standards</td>\n      <td>[0.002191121457144618, -0.010495488531887531, ...</td>\n    </tr>\n    <tr>\n      <th>10</th>\n      <td>8a10b600-8f6e-4fdc-a82f-e9dfdc80a33a</td>\n      <td>Which of the following actions is least likely...</td>\n      <td>[Distributing recommendation to high net worth...</td>\n      <td>Ethical and Professional Standards</td>\n      <td>[-0.02117363177239895, -0.03191583976149559, 0...</td>\n    </tr>\n    <tr>\n      <th>11</th>\n      <td>cbdbc85b-a6ae-4433-9b2f-0d6570c0bb79</td>\n      <td>Which of the following is not correct about ve...</td>\n      <td>[Verification must be performed by an independ...</td>\n      <td>Ethical and Professional Standards</td>\n      <td>[-0.01348877977579832, 0.0031064869835972786, ...</td>\n    </tr>\n    <tr>\n      <th>12</th>\n      <td>35be5f28-6861-4ddd-991f-a081101a176c</td>\n      <td>Which of the following is not a requirement of...</td>\n      <td>[one or more portfolios., portfolios selected ...</td>\n      <td>Ethical and Professional Standards</td>\n      <td>[-0.022901024669408798, 0.001951791811734438, ...</td>\n    </tr>\n    <tr>\n      <th>13</th>\n      <td>3aa6f3b9-3f00-436c-8250-286d35498269</td>\n      <td>Cassandra Turnbull is planning a college fund ...</td>\n      <td>[USD10,069., USD18,116., USD24,000.]</td>\n      <td>Quantitative Methods</td>\n      <td>[0.01821301504969597, -0.011666676960885525, 0...</td>\n    </tr>\n    <tr>\n      <th>14</th>\n      <td>55e4df1b-8acb-45d5-bd74-3a3bd39abc53</td>\n      <td>An equity analyst has categorized some stocks ...</td>\n      <td>[Interval., Nominal., Ordinal.]</td>\n      <td>Quantitative Methods</td>\n      <td>[-0.0022847268264740705, -0.024823516607284546...</td>\n    </tr>\n    <tr>\n      <th>15</th>\n      <td>74fe0a74-0b2a-4657-9a52-ce1ca52bb572</td>\n      <td>Steve Rowling is analyzing the historical perf...</td>\n      <td>[7.5 %, 5.76 %, 11.3 %]</td>\n      <td>Quantitative Methods</td>\n      <td>[-0.008523395285010338, -0.012276384979486465,...</td>\n    </tr>\n    <tr>\n      <th>16</th>\n      <td>e8e69d5b-5c72-4c70-b7b5-a2404ea767c2</td>\n      <td>Bernhard Schwaiger, an equity analyst, wants t...</td>\n      <td>[time-series data., cross-sectional data., pan...</td>\n      <td>Quantitative Methods</td>\n      <td>[-0.016868723556399345, -0.015274301171302795,...</td>\n    </tr>\n    <tr>\n      <th>17</th>\n      <td>1b2b6767-3445-44ba-bfb2-edc044248fbf</td>\n      <td>Which of the following types of probabilities ...</td>\n      <td>[An empirical probability., A priori probabili...</td>\n      <td>Quantitative Methods</td>\n      <td>[0.0009533858392387629, -0.030482403934001923,...</td>\n    </tr>\n    <tr>\n      <th>18</th>\n      <td>3a220e86-a780-480a-9fe0-87c1ab393251</td>\n      <td>It is least likely for a binomial random varia...</td>\n      <td>[the standard deviation of the variable is np(...</td>\n      <td>Quantitative Methods</td>\n      <td>[-0.00393192982301116, 0.002891124924644828, 0...</td>\n    </tr>\n    <tr>\n      <th>19</th>\n      <td>f0f3afbe-7096-46a0-a077-cf6ee619ff81</td>\n      <td>Choosing not to reject a null hypothesis that ...</td>\n      <td>[statistical decision., economic decision., in...</td>\n      <td>Quantitative Methods</td>\n      <td>[-0.015790637582540512, -0.025441201403737068,...</td>\n    </tr>\n    <tr>\n      <th>20</th>\n      <td>7f6baf1b-0726-49b6-acfd-b089097be45a</td>\n      <td>Which of the following is least likely true fo...</td>\n      <td>[It has an excess kurtosis of 3.0., The mean i...</td>\n      <td>Quantitative Methods</td>\n      <td>[0.012575844302773476, 0.003404228249564767, 0...</td>\n    </tr>\n    <tr>\n      <th>21</th>\n      <td>8cced206-3986-4120-9d49-47d80ba81f7f</td>\n      <td>Assume that the nominal spot exchange rate (US...</td>\n      <td>[1.80 percent., 1.82 percent., 1.14 percent.]</td>\n      <td>Economics</td>\n      <td>[-0.010231759399175644, -0.01147546898573637, ...</td>\n    </tr>\n    <tr>\n      <th>22</th>\n      <td>3bc2bd16-74ec-4bf2-bb09-63a3e1451f70</td>\n      <td>A firm will most likely shut down its producti...</td>\n      <td>[the total revenue is less than the total cost...</td>\n      <td>Economics</td>\n      <td>[-0.023046275600790977, -0.029011795297265053,...</td>\n    </tr>\n    <tr>\n      <th>23</th>\n      <td>f3f089ad-036f-4120-9b43-113e8d8248e5</td>\n      <td>Which of the following statements about Giffen...</td>\n      <td>[Demand curve is positively sloped., Income ef...</td>\n      <td>Economics</td>\n      <td>[-0.017165206372737885, -0.014607861638069153,...</td>\n    </tr>\n    <tr>\n      <th>24</th>\n      <td>87140956-9b02-4574-83d1-49acc8daa44d</td>\n      <td>Aggregate demand (AD) curve will shift left if:</td>\n      <td>[interest rates are lower., taxes are higher.,...</td>\n      <td>Economics</td>\n      <td>[-0.008108867332339287, -0.024036770686507225,...</td>\n    </tr>\n    <tr>\n      <th>25</th>\n      <td>7ea2e8e3-d3c1-49fe-ad08-5e6846aebfa4</td>\n      <td>Assume that the nominal spot exchange rate (US...</td>\n      <td>[12.72 %., 1.94 %., -2.52%]</td>\n      <td>Economics</td>\n      <td>[-0.001321720308624208, -0.018578683957457542,...</td>\n    </tr>\n    <tr>\n      <th>26</th>\n      <td>5ae2ed86-b057-47d0-9275-fe515a1384ba</td>\n      <td>According to the Fischer effect, a decrease in...</td>\n      <td>[both nominal and real interest rates., the no...</td>\n      <td>Economics</td>\n      <td>[-0.035725634545087814, -0.007997321896255016,...</td>\n    </tr>\n    <tr>\n      <th>27</th>\n      <td>2fac5dcb-7ce9-4a18-9640-7b0564aaeed3</td>\n      <td>A large country wants to increase its national...</td>\n      <td>[It must have a comparative advantage in the p...</td>\n      <td>Economics</td>\n      <td>[-0.002830125391483307, -0.02429286576807499, ...</td>\n    </tr>\n    <tr>\n      <th>28</th>\n      <td>4b1b87ec-814e-4bbc-b9ec-55ffa4fa5b66</td>\n      <td>One of the reasons aggregate demand curve is d...</td>\n      <td>[depreciates, making domestic goods cheaper in...</td>\n      <td>Economics</td>\n      <td>[-0.018429817631840706, -0.017706066370010376,...</td>\n    </tr>\n    <tr>\n      <th>29</th>\n      <td>e74b9a63-979d-4eeb-a11c-f6283fad871d</td>\n      <td>The firms involved in a cartel have collusive ...</td>\n      <td>[Homogenous products., Few firms having simila...</td>\n      <td>Economics</td>\n      <td>[-0.004277796018868685, -0.0013091106666252017...</td>\n    </tr>\n    <tr>\n      <th>30</th>\n      <td>c52c7110-0b36-4736-9859-e0a2cbc28ec5</td>\n      <td>Which of the following companies will have the...</td>\n      <td>[A company that combines the results of the tw...</td>\n      <td>Financial Reporting and Analysis</td>\n      <td>[-0.002665648702532053, 0.002643505809828639, ...</td>\n    </tr>\n    <tr>\n      <th>31</th>\n      <td>8ebcc704-11db-47bb-92b7-9b906b222159</td>\n      <td>A separate purchases account is most likely re...</td>\n      <td>[the periodic inventory system., the perpetual...</td>\n      <td>Financial Reporting and Analysis</td>\n      <td>[-0.013547739014029503, -0.007608284242451191,...</td>\n    </tr>\n    <tr>\n      <th>32</th>\n      <td>54b3dee0-383b-4df6-a33f-a51450c1b3f8</td>\n      <td>Pardew Jewels had 340,000 common shares outsta...</td>\n      <td>[4.85, 5.45, 6.18]</td>\n      <td>Financial Reporting and Analysis</td>\n      <td>[-0.0015917522832751274, -0.011010169982910156...</td>\n    </tr>\n    <tr>\n      <th>33</th>\n      <td>e9ee13d6-3b46-4e0c-917b-306b817e0fd7</td>\n      <td>The most appropriate way to account for the as...</td>\n      <td>[held for sale with no depreciation taken., he...</td>\n      <td>Financial Reporting and Analysis</td>\n      <td>[-0.03479471802711487, -0.011672587133944035, ...</td>\n    </tr>\n  </tbody>\n</table>\n</div>"
     },
     "execution_count": 111,
     "metadata": {},
     "output_type": "execute_result"
    }
   ],
   "source": [
    "data"
   ],
   "metadata": {
    "collapsed": false,
    "pycharm": {
     "name": "#%%\n"
    }
   }
  },
  {
   "cell_type": "code",
   "execution_count": 118,
   "outputs": [
    {
     "data": {
      "text/plain": "0.007968312129378319"
     },
     "execution_count": 118,
     "metadata": {},
     "output_type": "execute_result"
    }
   ],
   "source": [
    "data['embedding'][0][0]"
   ],
   "metadata": {
    "collapsed": false,
    "pycharm": {
     "name": "#%%\n"
    }
   }
  },
  {
   "cell_type": "code",
   "execution_count": null,
   "outputs": [],
   "source": [
    "import pandas as pd\n",
    "from sklearn.manifold import TSNE\n",
    "import numpy as np\n",
    "from ast import literal_eval\n",
    "\n",
    "# Convert to a list of lists of floats\n",
    "matrix = np.array(data['embedding'].apply(json.dumps).apply(literal_eval).to_list())\n",
    "\n",
    "# Create a t-SNE model and transform the data\n",
    "tsne = TSNE(n_components=2, perplexity=15, random_state=42, init='random', learning_rate=200)\n",
    "vis_dims = tsne.fit_transform(matrix)\n",
    "vis_dims.shape"
   ],
   "metadata": {
    "collapsed": false,
    "pycharm": {
     "name": "#%%\n",
     "is_executing": true
    }
   }
  },
  {
   "cell_type": "code",
   "execution_count": null,
   "outputs": [],
   "source": [
    "import matplotlib.pyplot as plt\n",
    "import matplotlib\n",
    "import numpy as np\n",
    "\n",
    "colors = [\"red\", \"darkorange\", \"gold\", \"darkgreen\"]\n",
    "x = [x for x,y in vis_dims]\n",
    "y = [y for x,y in vis_dims]\n",
    "data['Score'] = numbers\n",
    "color_indices = data.Score.values - 1\n",
    "\n",
    "colormap = matplotlib.colors.ListedColormap(colors)\n",
    "plt.scatter(x, y, c=color_indices, cmap=colormap, alpha=0.3)\n",
    "plt.title(\"Amazon ratings visualized in language using t-SNE\")\n",
    "\n",
    "plt.title(\"Questions visualised in language using t-SNE\")"
   ],
   "metadata": {
    "collapsed": false,
    "pycharm": {
     "name": "#%%\n",
     "is_executing": true
    }
   }
  },
  {
   "cell_type": "code",
   "execution_count": null,
   "outputs": [],
   "source": [
    "# Step 1: Identify unique strings and sort them for consistent mapping\n",
    "unique_strings = sorted(set(data['_category']))\n",
    "\n",
    "# Step 2: Create a mapping from string to number\n",
    "string_to_number = {string: i for i, string in enumerate(unique_strings)}\n",
    "\n",
    "# Step 3: Replace each string in your list with its corresponding number\n",
    "numbers = [string_to_number[string] for string in data['_category']]"
   ],
   "metadata": {
    "collapsed": false,
    "pycharm": {
     "name": "#%%\n",
     "is_executing": true
    }
   }
  },
  {
   "cell_type": "code",
   "execution_count": 144,
   "outputs": [
    {
     "data": {
      "text/plain": "                                      id  \\\n0   b8645f24-32b3-4732-b0ee-99db249bcd79   \n1   d9565025-0798-4477-aaad-b9effb0fc974   \n2   dcafd902-0a03-4617-bfad-42f6f4fa0513   \n3   da4cd658-bca1-4935-b9c3-98d65030e818   \n4   b854842f-4701-4c1d-9613-a6e919617f57   \n5   706ec10f-fd3a-451a-82b6-baaf7bf85f3d   \n6   d1370f15-cc00-4184-a548-eff352633bc7   \n7   ecba238f-40ac-44fe-8083-cd2b3a2dadcd   \n8   3ba54509-0511-4d10-9364-cb04fb3a04e6   \n9   ca289b3f-1c34-4274-baaa-fe708fb9576c   \n10  8a10b600-8f6e-4fdc-a82f-e9dfdc80a33a   \n11  cbdbc85b-a6ae-4433-9b2f-0d6570c0bb79   \n12  35be5f28-6861-4ddd-991f-a081101a176c   \n13  3aa6f3b9-3f00-436c-8250-286d35498269   \n14  55e4df1b-8acb-45d5-bd74-3a3bd39abc53   \n15  74fe0a74-0b2a-4657-9a52-ce1ca52bb572   \n16  e8e69d5b-5c72-4c70-b7b5-a2404ea767c2   \n17  1b2b6767-3445-44ba-bfb2-edc044248fbf   \n18  3a220e86-a780-480a-9fe0-87c1ab393251   \n19  f0f3afbe-7096-46a0-a077-cf6ee619ff81   \n20  7f6baf1b-0726-49b6-acfd-b089097be45a   \n21  8cced206-3986-4120-9d49-47d80ba81f7f   \n22  3bc2bd16-74ec-4bf2-bb09-63a3e1451f70   \n23  f3f089ad-036f-4120-9b43-113e8d8248e5   \n24  87140956-9b02-4574-83d1-49acc8daa44d   \n25  7ea2e8e3-d3c1-49fe-ad08-5e6846aebfa4   \n26  5ae2ed86-b057-47d0-9275-fe515a1384ba   \n27  2fac5dcb-7ce9-4a18-9640-7b0564aaeed3   \n28  4b1b87ec-814e-4bbc-b9ec-55ffa4fa5b66   \n29  e74b9a63-979d-4eeb-a11c-f6283fad871d   \n30  c52c7110-0b36-4736-9859-e0a2cbc28ec5   \n31  8ebcc704-11db-47bb-92b7-9b906b222159   \n32  54b3dee0-383b-4df6-a33f-a51450c1b3f8   \n33  e9ee13d6-3b46-4e0c-917b-306b817e0fd7   \n\n                                             question  \\\n0   Sumita Khatri wrote a research report and foll...   \n1   Aryana Reid, CFA, is a private wealth manager....   \n2   Kent Miller is an investment adviser at UBN In...   \n3   Justin Zoghlin, CFA, was hired as a wealth man...   \n4   Rani Kaporwala, CFA, an analyst at Smart Secur...   \n5   Cara Knightly is a much respected portfolio ma...   \n6   Andy McCarthy, CFA, resigns from his position ...   \n7   During lunch with his friend, who is an analys...   \n8   Which of the following is least likely correct...   \n9   Stewart is an analyst at a small investment fi...   \n10  Which of the following actions is least likely...   \n11  Which of the following is not correct about ve...   \n12  Which of the following is not a requirement of...   \n13  Cassandra Turnbull is planning a college fund ...   \n14  An equity analyst has categorized some stocks ...   \n15  Steve Rowling is analyzing the historical perf...   \n16  Bernhard Schwaiger, an equity analyst, wants t...   \n17  Which of the following types of probabilities ...   \n18  It is least likely for a binomial random varia...   \n19  Choosing not to reject a null hypothesis that ...   \n20  Which of the following is least likely true fo...   \n21  Assume that the nominal spot exchange rate (US...   \n22  A firm will most likely shut down its producti...   \n23  Which of the following statements about Giffen...   \n24    Aggregate demand (AD) curve will shift left if:   \n25  Assume that the nominal spot exchange rate (US...   \n26  According to the Fischer effect, a decrease in...   \n27  A large country wants to increase its national...   \n28  One of the reasons aggregate demand curve is d...   \n29  The firms involved in a cartel have collusive ...   \n30  Which of the following companies will have the...   \n31  A separate purchases account is most likely re...   \n32  Pardew Jewels had 340,000 common shares outsta...   \n33  The most appropriate way to account for the as...   \n\n                                              options  \\\n0   [No., Yes, relating to performance presentatio...   \n1   [Publish the post and send it as a mail to the...   \n2   [determine Hartford’s needs, objectives, and t...   \n3   [Serving the religious community., Managing no...   \n4   [No., Yes, relating to communications with cli...   \n5   [Yes, related to priority of transactions., Ye...   \n6   [No., Yes, relating to reference to the CFA In...   \n7   [Yes, with respect to diligence and reasonable...   \n8   [Financial analysts may use conclusions as rec...   \n9   [Yes, relating to priority of transactions., N...   \n10  [Distributing recommendation to high net worth...   \n11  [Verification must be performed by an independ...   \n12  [one or more portfolios., portfolios selected ...   \n13               [USD10,069., USD18,116., USD24,000.]   \n14                    [Interval., Nominal., Ordinal.]   \n15                            [7.5 %, 5.76 %, 11.3 %]   \n16  [time-series data., cross-sectional data., pan...   \n17  [An empirical probability., A priori probabili...   \n18  [the standard deviation of the variable is np(...   \n19  [statistical decision., economic decision., in...   \n20  [It has an excess kurtosis of 3.0., The mean i...   \n21      [1.80 percent., 1.82 percent., 1.14 percent.]   \n22  [the total revenue is less than the total cost...   \n23  [Demand curve is positively sloped., Income ef...   \n24  [interest rates are lower., taxes are higher.,...   \n25                        [12.72 %., 1.94 %., -2.52%]   \n26  [both nominal and real interest rates., the no...   \n27  [It must have a comparative advantage in the p...   \n28  [depreciates, making domestic goods cheaper in...   \n29  [Homogenous products., Few firms having simila...   \n30  [A company that combines the results of the tw...   \n31  [the periodic inventory system., the perpetual...   \n32                                 [4.85, 5.45, 6.18]   \n33  [held for sale with no depreciation taken., he...   \n\n                             _category  \\\n0   Ethical and Professional Standards   \n1   Ethical and Professional Standards   \n2   Ethical and Professional Standards   \n3   Ethical and Professional Standards   \n4   Ethical and Professional Standards   \n5   Ethical and Professional Standards   \n6   Ethical and Professional Standards   \n7   Ethical and Professional Standards   \n8   Ethical and Professional Standards   \n9   Ethical and Professional Standards   \n10  Ethical and Professional Standards   \n11  Ethical and Professional Standards   \n12  Ethical and Professional Standards   \n13                Quantitative Methods   \n14                Quantitative Methods   \n15                Quantitative Methods   \n16                Quantitative Methods   \n17                Quantitative Methods   \n18                Quantitative Methods   \n19                Quantitative Methods   \n20                Quantitative Methods   \n21                           Economics   \n22                           Economics   \n23                           Economics   \n24                           Economics   \n25                           Economics   \n26                           Economics   \n27                           Economics   \n28                           Economics   \n29                           Economics   \n30    Financial Reporting and Analysis   \n31    Financial Reporting and Analysis   \n32    Financial Reporting and Analysis   \n33    Financial Reporting and Analysis   \n\n                                            embedding  Score  \n0   [0.007968312129378319, -0.0021401941776275635,...      1  \n1   [-0.02464733086526394, -0.014164824038743973, ...      1  \n2   [-0.0013949209824204445, -0.01329685840755701,...      1  \n3   [-0.01206973847001791, -0.030683474615216255, ...      1  \n4   [0.016661042347550392, -0.013284368440508842, ...      1  \n5   [0.0029430605936795473, -0.018401801586151123,...      1  \n6   [-0.0012830019695684314, -0.023840297013521194...      1  \n7   [-0.0013840276515111327, -0.022090759128332138...      1  \n8   [-0.006813789717853069, 0.005216542165726423, ...      1  \n9   [0.002191121457144618, -0.010495488531887531, ...      1  \n10  [-0.02117363177239895, -0.03191583976149559, 0...      1  \n11  [-0.01348877977579832, 0.0031064869835972786, ...      1  \n12  [-0.022901024669408798, 0.001951791811734438, ...      1  \n13  [0.01821301504969597, -0.011666676960885525, 0...      3  \n14  [-0.0022847268264740705, -0.024823516607284546...      3  \n15  [-0.008523395285010338, -0.012276384979486465,...      3  \n16  [-0.016868723556399345, -0.015274301171302795,...      3  \n17  [0.0009533858392387629, -0.030482403934001923,...      3  \n18  [-0.00393192982301116, 0.002891124924644828, 0...      3  \n19  [-0.015790637582540512, -0.025441201403737068,...      3  \n20  [0.012575844302773476, 0.003404228249564767, 0...      3  \n21  [-0.010231759399175644, -0.01147546898573637, ...      0  \n22  [-0.023046275600790977, -0.029011795297265053,...      0  \n23  [-0.017165206372737885, -0.014607861638069153,...      0  \n24  [-0.008108867332339287, -0.024036770686507225,...      0  \n25  [-0.001321720308624208, -0.018578683957457542,...      0  \n26  [-0.035725634545087814, -0.007997321896255016,...      0  \n27  [-0.002830125391483307, -0.02429286576807499, ...      0  \n28  [-0.018429817631840706, -0.017706066370010376,...      0  \n29  [-0.004277796018868685, -0.0013091106666252017...      0  \n30  [-0.002665648702532053, 0.002643505809828639, ...      2  \n31  [-0.013547739014029503, -0.007608284242451191,...      2  \n32  [-0.0015917522832751274, -0.011010169982910156...      2  \n33  [-0.03479471802711487, -0.011672587133944035, ...      2  ",
      "text/html": "<div>\n<style scoped>\n    .dataframe tbody tr th:only-of-type {\n        vertical-align: middle;\n    }\n\n    .dataframe tbody tr th {\n        vertical-align: top;\n    }\n\n    .dataframe thead th {\n        text-align: right;\n    }\n</style>\n<table border=\"1\" class=\"dataframe\">\n  <thead>\n    <tr style=\"text-align: right;\">\n      <th></th>\n      <th>id</th>\n      <th>question</th>\n      <th>options</th>\n      <th>_category</th>\n      <th>embedding</th>\n      <th>Score</th>\n    </tr>\n  </thead>\n  <tbody>\n    <tr>\n      <th>0</th>\n      <td>b8645f24-32b3-4732-b0ee-99db249bcd79</td>\n      <td>Sumita Khatri wrote a research report and foll...</td>\n      <td>[No., Yes, relating to performance presentatio...</td>\n      <td>Ethical and Professional Standards</td>\n      <td>[0.007968312129378319, -0.0021401941776275635,...</td>\n      <td>1</td>\n    </tr>\n    <tr>\n      <th>1</th>\n      <td>d9565025-0798-4477-aaad-b9effb0fc974</td>\n      <td>Aryana Reid, CFA, is a private wealth manager....</td>\n      <td>[Publish the post and send it as a mail to the...</td>\n      <td>Ethical and Professional Standards</td>\n      <td>[-0.02464733086526394, -0.014164824038743973, ...</td>\n      <td>1</td>\n    </tr>\n    <tr>\n      <th>2</th>\n      <td>dcafd902-0a03-4617-bfad-42f6f4fa0513</td>\n      <td>Kent Miller is an investment adviser at UBN In...</td>\n      <td>[determine Hartford’s needs, objectives, and t...</td>\n      <td>Ethical and Professional Standards</td>\n      <td>[-0.0013949209824204445, -0.01329685840755701,...</td>\n      <td>1</td>\n    </tr>\n    <tr>\n      <th>3</th>\n      <td>da4cd658-bca1-4935-b9c3-98d65030e818</td>\n      <td>Justin Zoghlin, CFA, was hired as a wealth man...</td>\n      <td>[Serving the religious community., Managing no...</td>\n      <td>Ethical and Professional Standards</td>\n      <td>[-0.01206973847001791, -0.030683474615216255, ...</td>\n      <td>1</td>\n    </tr>\n    <tr>\n      <th>4</th>\n      <td>b854842f-4701-4c1d-9613-a6e919617f57</td>\n      <td>Rani Kaporwala, CFA, an analyst at Smart Secur...</td>\n      <td>[No., Yes, relating to communications with cli...</td>\n      <td>Ethical and Professional Standards</td>\n      <td>[0.016661042347550392, -0.013284368440508842, ...</td>\n      <td>1</td>\n    </tr>\n    <tr>\n      <th>5</th>\n      <td>706ec10f-fd3a-451a-82b6-baaf7bf85f3d</td>\n      <td>Cara Knightly is a much respected portfolio ma...</td>\n      <td>[Yes, related to priority of transactions., Ye...</td>\n      <td>Ethical and Professional Standards</td>\n      <td>[0.0029430605936795473, -0.018401801586151123,...</td>\n      <td>1</td>\n    </tr>\n    <tr>\n      <th>6</th>\n      <td>d1370f15-cc00-4184-a548-eff352633bc7</td>\n      <td>Andy McCarthy, CFA, resigns from his position ...</td>\n      <td>[No., Yes, relating to reference to the CFA In...</td>\n      <td>Ethical and Professional Standards</td>\n      <td>[-0.0012830019695684314, -0.023840297013521194...</td>\n      <td>1</td>\n    </tr>\n    <tr>\n      <th>7</th>\n      <td>ecba238f-40ac-44fe-8083-cd2b3a2dadcd</td>\n      <td>During lunch with his friend, who is an analys...</td>\n      <td>[Yes, with respect to diligence and reasonable...</td>\n      <td>Ethical and Professional Standards</td>\n      <td>[-0.0013840276515111327, -0.022090759128332138...</td>\n      <td>1</td>\n    </tr>\n    <tr>\n      <th>8</th>\n      <td>3ba54509-0511-4d10-9364-cb04fb3a04e6</td>\n      <td>Which of the following is least likely correct...</td>\n      <td>[Financial analysts may use conclusions as rec...</td>\n      <td>Ethical and Professional Standards</td>\n      <td>[-0.006813789717853069, 0.005216542165726423, ...</td>\n      <td>1</td>\n    </tr>\n    <tr>\n      <th>9</th>\n      <td>ca289b3f-1c34-4274-baaa-fe708fb9576c</td>\n      <td>Stewart is an analyst at a small investment fi...</td>\n      <td>[Yes, relating to priority of transactions., N...</td>\n      <td>Ethical and Professional Standards</td>\n      <td>[0.002191121457144618, -0.010495488531887531, ...</td>\n      <td>1</td>\n    </tr>\n    <tr>\n      <th>10</th>\n      <td>8a10b600-8f6e-4fdc-a82f-e9dfdc80a33a</td>\n      <td>Which of the following actions is least likely...</td>\n      <td>[Distributing recommendation to high net worth...</td>\n      <td>Ethical and Professional Standards</td>\n      <td>[-0.02117363177239895, -0.03191583976149559, 0...</td>\n      <td>1</td>\n    </tr>\n    <tr>\n      <th>11</th>\n      <td>cbdbc85b-a6ae-4433-9b2f-0d6570c0bb79</td>\n      <td>Which of the following is not correct about ve...</td>\n      <td>[Verification must be performed by an independ...</td>\n      <td>Ethical and Professional Standards</td>\n      <td>[-0.01348877977579832, 0.0031064869835972786, ...</td>\n      <td>1</td>\n    </tr>\n    <tr>\n      <th>12</th>\n      <td>35be5f28-6861-4ddd-991f-a081101a176c</td>\n      <td>Which of the following is not a requirement of...</td>\n      <td>[one or more portfolios., portfolios selected ...</td>\n      <td>Ethical and Professional Standards</td>\n      <td>[-0.022901024669408798, 0.001951791811734438, ...</td>\n      <td>1</td>\n    </tr>\n    <tr>\n      <th>13</th>\n      <td>3aa6f3b9-3f00-436c-8250-286d35498269</td>\n      <td>Cassandra Turnbull is planning a college fund ...</td>\n      <td>[USD10,069., USD18,116., USD24,000.]</td>\n      <td>Quantitative Methods</td>\n      <td>[0.01821301504969597, -0.011666676960885525, 0...</td>\n      <td>3</td>\n    </tr>\n    <tr>\n      <th>14</th>\n      <td>55e4df1b-8acb-45d5-bd74-3a3bd39abc53</td>\n      <td>An equity analyst has categorized some stocks ...</td>\n      <td>[Interval., Nominal., Ordinal.]</td>\n      <td>Quantitative Methods</td>\n      <td>[-0.0022847268264740705, -0.024823516607284546...</td>\n      <td>3</td>\n    </tr>\n    <tr>\n      <th>15</th>\n      <td>74fe0a74-0b2a-4657-9a52-ce1ca52bb572</td>\n      <td>Steve Rowling is analyzing the historical perf...</td>\n      <td>[7.5 %, 5.76 %, 11.3 %]</td>\n      <td>Quantitative Methods</td>\n      <td>[-0.008523395285010338, -0.012276384979486465,...</td>\n      <td>3</td>\n    </tr>\n    <tr>\n      <th>16</th>\n      <td>e8e69d5b-5c72-4c70-b7b5-a2404ea767c2</td>\n      <td>Bernhard Schwaiger, an equity analyst, wants t...</td>\n      <td>[time-series data., cross-sectional data., pan...</td>\n      <td>Quantitative Methods</td>\n      <td>[-0.016868723556399345, -0.015274301171302795,...</td>\n      <td>3</td>\n    </tr>\n    <tr>\n      <th>17</th>\n      <td>1b2b6767-3445-44ba-bfb2-edc044248fbf</td>\n      <td>Which of the following types of probabilities ...</td>\n      <td>[An empirical probability., A priori probabili...</td>\n      <td>Quantitative Methods</td>\n      <td>[0.0009533858392387629, -0.030482403934001923,...</td>\n      <td>3</td>\n    </tr>\n    <tr>\n      <th>18</th>\n      <td>3a220e86-a780-480a-9fe0-87c1ab393251</td>\n      <td>It is least likely for a binomial random varia...</td>\n      <td>[the standard deviation of the variable is np(...</td>\n      <td>Quantitative Methods</td>\n      <td>[-0.00393192982301116, 0.002891124924644828, 0...</td>\n      <td>3</td>\n    </tr>\n    <tr>\n      <th>19</th>\n      <td>f0f3afbe-7096-46a0-a077-cf6ee619ff81</td>\n      <td>Choosing not to reject a null hypothesis that ...</td>\n      <td>[statistical decision., economic decision., in...</td>\n      <td>Quantitative Methods</td>\n      <td>[-0.015790637582540512, -0.025441201403737068,...</td>\n      <td>3</td>\n    </tr>\n    <tr>\n      <th>20</th>\n      <td>7f6baf1b-0726-49b6-acfd-b089097be45a</td>\n      <td>Which of the following is least likely true fo...</td>\n      <td>[It has an excess kurtosis of 3.0., The mean i...</td>\n      <td>Quantitative Methods</td>\n      <td>[0.012575844302773476, 0.003404228249564767, 0...</td>\n      <td>3</td>\n    </tr>\n    <tr>\n      <th>21</th>\n      <td>8cced206-3986-4120-9d49-47d80ba81f7f</td>\n      <td>Assume that the nominal spot exchange rate (US...</td>\n      <td>[1.80 percent., 1.82 percent., 1.14 percent.]</td>\n      <td>Economics</td>\n      <td>[-0.010231759399175644, -0.01147546898573637, ...</td>\n      <td>0</td>\n    </tr>\n    <tr>\n      <th>22</th>\n      <td>3bc2bd16-74ec-4bf2-bb09-63a3e1451f70</td>\n      <td>A firm will most likely shut down its producti...</td>\n      <td>[the total revenue is less than the total cost...</td>\n      <td>Economics</td>\n      <td>[-0.023046275600790977, -0.029011795297265053,...</td>\n      <td>0</td>\n    </tr>\n    <tr>\n      <th>23</th>\n      <td>f3f089ad-036f-4120-9b43-113e8d8248e5</td>\n      <td>Which of the following statements about Giffen...</td>\n      <td>[Demand curve is positively sloped., Income ef...</td>\n      <td>Economics</td>\n      <td>[-0.017165206372737885, -0.014607861638069153,...</td>\n      <td>0</td>\n    </tr>\n    <tr>\n      <th>24</th>\n      <td>87140956-9b02-4574-83d1-49acc8daa44d</td>\n      <td>Aggregate demand (AD) curve will shift left if:</td>\n      <td>[interest rates are lower., taxes are higher.,...</td>\n      <td>Economics</td>\n      <td>[-0.008108867332339287, -0.024036770686507225,...</td>\n      <td>0</td>\n    </tr>\n    <tr>\n      <th>25</th>\n      <td>7ea2e8e3-d3c1-49fe-ad08-5e6846aebfa4</td>\n      <td>Assume that the nominal spot exchange rate (US...</td>\n      <td>[12.72 %., 1.94 %., -2.52%]</td>\n      <td>Economics</td>\n      <td>[-0.001321720308624208, -0.018578683957457542,...</td>\n      <td>0</td>\n    </tr>\n    <tr>\n      <th>26</th>\n      <td>5ae2ed86-b057-47d0-9275-fe515a1384ba</td>\n      <td>According to the Fischer effect, a decrease in...</td>\n      <td>[both nominal and real interest rates., the no...</td>\n      <td>Economics</td>\n      <td>[-0.035725634545087814, -0.007997321896255016,...</td>\n      <td>0</td>\n    </tr>\n    <tr>\n      <th>27</th>\n      <td>2fac5dcb-7ce9-4a18-9640-7b0564aaeed3</td>\n      <td>A large country wants to increase its national...</td>\n      <td>[It must have a comparative advantage in the p...</td>\n      <td>Economics</td>\n      <td>[-0.002830125391483307, -0.02429286576807499, ...</td>\n      <td>0</td>\n    </tr>\n    <tr>\n      <th>28</th>\n      <td>4b1b87ec-814e-4bbc-b9ec-55ffa4fa5b66</td>\n      <td>One of the reasons aggregate demand curve is d...</td>\n      <td>[depreciates, making domestic goods cheaper in...</td>\n      <td>Economics</td>\n      <td>[-0.018429817631840706, -0.017706066370010376,...</td>\n      <td>0</td>\n    </tr>\n    <tr>\n      <th>29</th>\n      <td>e74b9a63-979d-4eeb-a11c-f6283fad871d</td>\n      <td>The firms involved in a cartel have collusive ...</td>\n      <td>[Homogenous products., Few firms having simila...</td>\n      <td>Economics</td>\n      <td>[-0.004277796018868685, -0.0013091106666252017...</td>\n      <td>0</td>\n    </tr>\n    <tr>\n      <th>30</th>\n      <td>c52c7110-0b36-4736-9859-e0a2cbc28ec5</td>\n      <td>Which of the following companies will have the...</td>\n      <td>[A company that combines the results of the tw...</td>\n      <td>Financial Reporting and Analysis</td>\n      <td>[-0.002665648702532053, 0.002643505809828639, ...</td>\n      <td>2</td>\n    </tr>\n    <tr>\n      <th>31</th>\n      <td>8ebcc704-11db-47bb-92b7-9b906b222159</td>\n      <td>A separate purchases account is most likely re...</td>\n      <td>[the periodic inventory system., the perpetual...</td>\n      <td>Financial Reporting and Analysis</td>\n      <td>[-0.013547739014029503, -0.007608284242451191,...</td>\n      <td>2</td>\n    </tr>\n    <tr>\n      <th>32</th>\n      <td>54b3dee0-383b-4df6-a33f-a51450c1b3f8</td>\n      <td>Pardew Jewels had 340,000 common shares outsta...</td>\n      <td>[4.85, 5.45, 6.18]</td>\n      <td>Financial Reporting and Analysis</td>\n      <td>[-0.0015917522832751274, -0.011010169982910156...</td>\n      <td>2</td>\n    </tr>\n    <tr>\n      <th>33</th>\n      <td>e9ee13d6-3b46-4e0c-917b-306b817e0fd7</td>\n      <td>The most appropriate way to account for the as...</td>\n      <td>[held for sale with no depreciation taken., he...</td>\n      <td>Financial Reporting and Analysis</td>\n      <td>[-0.03479471802711487, -0.011672587133944035, ...</td>\n      <td>2</td>\n    </tr>\n  </tbody>\n</table>\n</div>"
     },
     "execution_count": 144,
     "metadata": {},
     "output_type": "execute_result"
    }
   ],
   "source": [
    "data"
   ],
   "metadata": {
    "collapsed": false,
    "pycharm": {
     "name": "#%%\n"
    }
   }
  },
  {
   "cell_type": "code",
   "execution_count": 2,
   "outputs": [],
   "source": [
    "data = load_pickle('data.pkl')"
   ],
   "metadata": {
    "collapsed": false,
    "pycharm": {
     "name": "#%%\n"
    }
   }
  },
  {
   "cell_type": "code",
   "execution_count": 11,
   "outputs": [
    {
     "data": {
      "text/plain": "'Justin Zoghlin, CFA, was hired as a wealth manager to manage the $2 billion estate of a family in Oklahoma a year ago. He was given the flexibility to choose his working hours. When Zoghlin took the job, he served as the President of his religious community that conducted social welfare programs on a regular basis. In addition, he managed the investments for his large extended family. He did not get paid for his religious community activity or the family investments. Seeing the impressive returns he generated, his friends persuaded him to manage their investments, as well. Now, a year later, he has stopped serving the religious community. He manages investments for non-family members, but charges 10% of the portfolio value as his fee. Zoghlin has not informed his employer of any of these activities. With regard to which of the business activities, has Zoghlin least likely violated the CFA Institute Standards of Professional Conduct?'"
     },
     "execution_count": 11,
     "metadata": {},
     "output_type": "execute_result"
    }
   ],
   "source": [
    "data['question'][3]"
   ],
   "metadata": {
    "collapsed": false,
    "pycharm": {
     "name": "#%%\n"
    }
   }
  },
  {
   "cell_type": "code",
   "execution_count": 12,
   "outputs": [
    {
     "data": {
      "text/plain": "['Serving the religious community.',\n 'Managing non-family investments.',\n 'Managing family investments.']"
     },
     "execution_count": 12,
     "metadata": {},
     "output_type": "execute_result"
    }
   ],
   "source": [
    "data['options'][3]"
   ],
   "metadata": {
    "collapsed": false,
    "pycharm": {
     "name": "#%%\n"
    }
   }
  },
  {
   "cell_type": "code",
   "execution_count": 13,
   "outputs": [
    {
     "ename": "NameError",
     "evalue": "name 'vis_dims' is not defined",
     "output_type": "error",
     "traceback": [
      "\u001B[0;31m---------------------------------------------------------------------------\u001B[0m",
      "\u001B[0;31mNameError\u001B[0m                                 Traceback (most recent call last)",
      "Cell \u001B[0;32mIn[13], line 1\u001B[0m\n\u001B[0;32m----> 1\u001B[0m x \u001B[38;5;241m=\u001B[39m [x \u001B[38;5;28;01mfor\u001B[39;00m x,y \u001B[38;5;129;01min\u001B[39;00m \u001B[43mvis_dims\u001B[49m]\n\u001B[1;32m      2\u001B[0m y \u001B[38;5;241m=\u001B[39m [y \u001B[38;5;28;01mfor\u001B[39;00m x,y \u001B[38;5;129;01min\u001B[39;00m vis_dims]\n",
      "\u001B[0;31mNameError\u001B[0m: name 'vis_dims' is not defined"
     ]
    }
   ],
   "source": [
    "x = [x for x,y in vis_dims]\n",
    "y = [y for x,y in vis_dims]"
   ],
   "metadata": {
    "collapsed": false,
    "pycharm": {
     "name": "#%%\n"
    }
   }
  },
  {
   "cell_type": "code",
   "execution_count": null,
   "outputs": [],
   "source": [],
   "metadata": {
    "collapsed": false,
    "pycharm": {
     "name": "#%%\n"
    }
   }
  }
 ],
 "metadata": {
  "kernelspec": {
   "display_name": "Python 3",
   "language": "python",
   "name": "python3"
  },
  "language_info": {
   "codemirror_mode": {
    "name": "ipython",
    "version": 2
   },
   "file_extension": ".py",
   "mimetype": "text/x-python",
   "name": "python",
   "nbconvert_exporter": "python",
   "pygments_lexer": "ipython2",
   "version": "2.7.6"
  }
 },
 "nbformat": 4,
 "nbformat_minor": 0
}