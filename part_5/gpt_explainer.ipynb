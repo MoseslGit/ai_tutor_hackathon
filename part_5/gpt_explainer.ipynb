{
 "cells": [
  {
   "cell_type": "code",
   "execution_count": 6,
   "metadata": {},
   "outputs": [],
   "source": [
    "from openai import OpenAI\n",
    "import os"
   ]
  },
  {
   "cell_type": "code",
   "execution_count": 7,
   "metadata": {},
   "outputs": [],
   "source": [
    "def generate_explanation(question):\n",
    "    '''Generates an explanation of a particular question. Input/output are strings.'''\n",
    "    \n",
    "    client = OpenAI()\n",
    "\n",
    "    response = client.chat.completions.create(\n",
    "        model = \"gpt-4\",\n",
    "        messages = [\n",
    "            {\"role\": \"system\", \"content\":'''This GPT is designed to teach students about \n",
    "            concepts commonly covered in the CFA Level 1 exam.\n",
    "             \n",
    "             Given a question the student is struggling with, generate an in-depth explanation of the concepts behind it'''},\n",
    "            { \"role\": \"user\", \"content\": f\"Explain this question: {question}\" }, \n",
    "        ]\n",
    "    )\n",
    "    return response.choices[0].message.content"
   ]
  },
  {
   "cell_type": "code",
   "execution_count": 9,
   "metadata": {},
   "outputs": [],
   "source": [
    "result = generate_explanation('''When valuing a call option using the binomial model, an increase in the probability that the underlying will go up most likely implies that the current price of the call option:\n",
    "\n",
    "A. increases.\n",
    "\n",
    "B. remains unchanged.\n",
    "\n",
    "C. decreases.''')"
   ]
  },
  {
   "cell_type": "code",
   "execution_count": 14,
   "metadata": {},
   "outputs": [
    {
     "name": "stdout",
     "output_type": "stream",
     "text": [
      "The correct answer to this question is A. The price of the call option increases. \n",
      "\n",
      "To understand why, let's discuss the three core components of the binomial model and then see how increasing the probability of the underlying going up affects the value of a call option.\n",
      "\n",
      "1. Call Options and Underlying Asset: A call option gives you the right, but not the obligation, to buy the underlying asset at a predetermined price ('Strike price') before the expiration date. If the price of the underlying asset increases beyond the strike price, the option can be exercised for a profit. Conversely, if the price of the underlying asset is below the strike price, the option is worthless.\n",
      "\n",
      "2. Binomial Model: The binomial model is a type of option pricing model used by investors to understand how changes in various parameters affect the price/value of an option. This model assumes that the price of the underlying asset can move to one of two possible values in each time period – one higher ('up' state) and one lower ('down' state). \n",
      "\n",
      "3. Probability and Call Option: The value of the call option in the binomial model considers both potential future prices, weighted by their respective probabilities. Consequently, the higher the probability of the underlying going up, the greater the weighted average of the two possibilities will be, which in turn increases the estimated value (or price) of the call option.\n",
      "\n",
      "So, when the probability that the underlying asset will go up increases, it implies that there's a greater chance of the future price of the underlying asset being above the strike price. This higher potential for profit makes the call option more valuable, and its price increases.\n",
      "\n",
      "Remember, the value of an option is derivative of the value of the underlying asset. As such, anything that increases the potential value of the underlying asset (like an increased probability of its price going up) will also increase the value of the call option. Hence, the option price increases.\n"
     ]
    }
   ],
   "source": []
  }
 ],
 "metadata": {
  "kernelspec": {
   "display_name": "ml_audio",
   "language": "python",
   "name": "python3"
  },
  "language_info": {
   "codemirror_mode": {
    "name": "ipython",
    "version": 3
   },
   "file_extension": ".py",
   "mimetype": "text/x-python",
   "name": "python",
   "nbconvert_exporter": "python",
   "pygments_lexer": "ipython3",
   "version": "3.11.4"
  }
 },
 "nbformat": 4,
 "nbformat_minor": 2
}
